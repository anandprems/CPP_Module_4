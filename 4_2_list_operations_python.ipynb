{
  "nbformat": 4,
  "nbformat_minor": 0,
  "metadata": {
    "colab": {
      "provenance": []
    },
    "kernelspec": {
      "name": "python3",
      "display_name": "Python 3"
    },
    "language_info": {
      "name": "python"
    }
  },
  "cells": [
    {
      "cell_type": "markdown",
      "source": [
        "int, float, string, boolean, tuples, list, dictionary, etc..,"
      ],
      "metadata": {
        "id": "2XKyPqgNkGk_"
      }
    },
    {
      "cell_type": "markdown",
      "source": [
        "#LIST - Syntax & Intro"
      ],
      "metadata": {
        "id": "LceEbRWbGFB5"
      }
    },
    {
      "cell_type": "markdown",
      "source": [
        "![image.png](data:image/png;base64,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)"
      ],
      "metadata": {
        "id": "T1nx9EPtjYUu"
      }
    },
    {
      "cell_type": "code",
      "execution_count": 1,
      "metadata": {
        "colab": {
          "base_uri": "https://localhost:8080/"
        },
        "id": "_1JAIi6SF_rn",
        "outputId": "b0db10ec-0e25-4c9f-c2f0-d57b946ad17e"
      },
      "outputs": [
        {
          "output_type": "execute_result",
          "data": {
            "text/plain": [
              "[]"
            ]
          },
          "metadata": {},
          "execution_count": 1
        }
      ],
      "source": [
        "#Syntax\n",
        "list_data = []\n",
        "list_data"
      ]
    },
    {
      "cell_type": "code",
      "source": [
        "type(list_data)"
      ],
      "metadata": {
        "colab": {
          "base_uri": "https://localhost:8080/"
        },
        "id": "g5FPiUI4Mj88",
        "outputId": "35bcf96f-5a6c-4029-a82c-a5305f0542f8"
      },
      "execution_count": 2,
      "outputs": [
        {
          "output_type": "execute_result",
          "data": {
            "text/plain": [
              "list"
            ]
          },
          "metadata": {},
          "execution_count": 2
        }
      ]
    },
    {
      "cell_type": "code",
      "source": [
        "len(list_data)"
      ],
      "metadata": {
        "colab": {
          "base_uri": "https://localhost:8080/"
        },
        "id": "0GaJ8is6MsJl",
        "outputId": "0dca6cdd-f0d0-4d2c-e32d-2cb3cca8b413"
      },
      "execution_count": 3,
      "outputs": [
        {
          "output_type": "execute_result",
          "data": {
            "text/plain": [
              "0"
            ]
          },
          "metadata": {},
          "execution_count": 3
        }
      ]
    },
    {
      "cell_type": "code",
      "source": [
        "list_data_1 = [1, 2.0, 3+8j, 'hello',{'hi':'hello'},(1,2,3)]\n",
        "list_data_1"
      ],
      "metadata": {
        "colab": {
          "base_uri": "https://localhost:8080/"
        },
        "id": "_FLiuAvJGGYC",
        "outputId": "aebf61ef-80e1-4d1d-9a56-80bc8ef1a197"
      },
      "execution_count": 4,
      "outputs": [
        {
          "output_type": "execute_result",
          "data": {
            "text/plain": [
              "[1, 2.0, (3+8j), 'hello', {'hi': 'hello'}, (1, 2, 3)]"
            ]
          },
          "metadata": {},
          "execution_count": 4
        }
      ]
    },
    {
      "cell_type": "code",
      "source": [
        "type(list_data_1)"
      ],
      "metadata": {
        "colab": {
          "base_uri": "https://localhost:8080/"
        },
        "id": "XzGD1Cv7L8oV",
        "outputId": "06df8b0a-f0f3-4327-9281-fef5ce34e415"
      },
      "execution_count": 5,
      "outputs": [
        {
          "output_type": "execute_result",
          "data": {
            "text/plain": [
              "list"
            ]
          },
          "metadata": {},
          "execution_count": 5
        }
      ]
    },
    {
      "cell_type": "code",
      "source": [
        "len(list_data_1)"
      ],
      "metadata": {
        "colab": {
          "base_uri": "https://localhost:8080/"
        },
        "id": "bcvCveiGMo9-",
        "outputId": "fc561439-99a4-46c3-92f8-d8187b6302bd"
      },
      "execution_count": 6,
      "outputs": [
        {
          "output_type": "execute_result",
          "data": {
            "text/plain": [
              "6"
            ]
          },
          "metadata": {},
          "execution_count": 6
        }
      ]
    },
    {
      "cell_type": "markdown",
      "source": [
        "#List - Properties"
      ],
      "metadata": {
        "id": "NG2TVJvNOC-s"
      }
    },
    {
      "cell_type": "code",
      "source": [
        "#Highlights of list\n",
        "#1. Ordered - if u add any new data then it will add at the last\n",
        "#2. Mutable - after creating list, we can add, delete, modify\n",
        "#3. Duplicate - index based datatype hence we can have same element or data any no of times"
      ],
      "metadata": {
        "id": "w_Lhf8FUMxc-"
      },
      "execution_count": 7,
      "outputs": []
    },
    {
      "cell_type": "markdown",
      "source": [
        "#Creating empty list"
      ],
      "metadata": {
        "id": "elQfyoE1lo9K"
      }
    },
    {
      "cell_type": "code",
      "source": [
        "# using square breaket\n",
        "my_list1_1 = []  \n",
        "# using list function\n",
        "my_list2_1 = list()\n",
        "\n",
        "print(my_list1_1)\n",
        "print(my_list2_1)"
      ],
      "metadata": {
        "colab": {
          "base_uri": "https://localhost:8080/"
        },
        "id": "itXX8KhhlrzB",
        "outputId": "c62886e8-609f-4f27-c5b9-1b4e63db3181"
      },
      "execution_count": 8,
      "outputs": [
        {
          "output_type": "stream",
          "name": "stdout",
          "text": [
            "[]\n",
            "[]\n"
          ]
        }
      ]
    },
    {
      "cell_type": "code",
      "source": [
        "list1 = (1,2,3,4)\n",
        "list2 = list(list1)\n",
        "print(list(list2))\n",
        "print(type(list2))"
      ],
      "metadata": {
        "id": "ak2UHZKDgnON",
        "outputId": "a4635846-5e8d-4b01-8e02-05dc1c2fd3be",
        "colab": {
          "base_uri": "https://localhost:8080/"
        }
      },
      "execution_count": 72,
      "outputs": [
        {
          "output_type": "stream",
          "name": "stdout",
          "text": [
            "[1, 2, 3, 4]\n",
            "<class 'list'>\n"
          ]
        }
      ]
    },
    {
      "cell_type": "markdown",
      "source": [
        "#List Methods"
      ],
      "metadata": {
        "id": "-FXFcjcCNlA4"
      }
    },
    {
      "cell_type": "code",
      "source": [
        "num_list = range(10,20,2)\n",
        "print(num_list)"
      ],
      "metadata": {
        "colab": {
          "base_uri": "https://localhost:8080/"
        },
        "id": "x2LZupGzl-NH",
        "outputId": "4ad4174f-3c32-48a2-d2b9-81ab6bf451aa"
      },
      "execution_count": 73,
      "outputs": [
        {
          "output_type": "stream",
          "name": "stdout",
          "text": [
            "range(10, 20, 2)\n"
          ]
        }
      ]
    },
    {
      "cell_type": "code",
      "source": [
        "list(num_list)"
      ],
      "metadata": {
        "colab": {
          "base_uri": "https://localhost:8080/"
        },
        "id": "9CqSXCell_gO",
        "outputId": "59d2e571-1e6c-4d77-f1fb-2449e9df917e"
      },
      "execution_count": 74,
      "outputs": [
        {
          "output_type": "execute_result",
          "data": {
            "text/plain": [
              "[10, 12, 14, 16, 18]"
            ]
          },
          "metadata": {},
          "execution_count": 74
        }
      ]
    },
    {
      "cell_type": "code",
      "source": [
        "name = 'Premanand'\n",
        "list(name)"
      ],
      "metadata": {
        "colab": {
          "base_uri": "https://localhost:8080/"
        },
        "id": "M_4RszXSNhli",
        "outputId": "ef8f4eee-619e-426b-b30f-126ae702783d"
      },
      "execution_count": 11,
      "outputs": [
        {
          "output_type": "execute_result",
          "data": {
            "text/plain": [
              "['P', 'r', 'e', 'm', 'a', 'n', 'a', 'n', 'd']"
            ]
          },
          "metadata": {},
          "execution_count": 11
        }
      ]
    },
    {
      "cell_type": "code",
      "source": [
        "tuple_1 = (1, 'p', 2.0, ('hi','hello'))\n",
        "tuple_1"
      ],
      "metadata": {
        "colab": {
          "base_uri": "https://localhost:8080/"
        },
        "id": "tTdG1oS3OLCt",
        "outputId": "52bf4267-d687-4ece-d590-8354168ac348"
      },
      "execution_count": 12,
      "outputs": [
        {
          "output_type": "execute_result",
          "data": {
            "text/plain": [
              "(1, 'p', 2.0, ('hi', 'hello'))"
            ]
          },
          "metadata": {},
          "execution_count": 12
        }
      ]
    },
    {
      "cell_type": "code",
      "source": [
        "list(tuple_1)"
      ],
      "metadata": {
        "colab": {
          "base_uri": "https://localhost:8080/"
        },
        "id": "4QIjVY36OpJ4",
        "outputId": "22c7fe5b-d265-46d8-83cf-f20f05b33f4b"
      },
      "execution_count": 13,
      "outputs": [
        {
          "output_type": "execute_result",
          "data": {
            "text/plain": [
              "[1, 'p', 2.0, ('hi', 'hello')]"
            ]
          },
          "metadata": {},
          "execution_count": 13
        }
      ]
    },
    {
      "cell_type": "code",
      "source": [
        "set_1 = {1, 2.0, 1, 3}\n",
        "set_1"
      ],
      "metadata": {
        "colab": {
          "base_uri": "https://localhost:8080/"
        },
        "id": "Xt_Cuf8LOr-4",
        "outputId": "0ac3aeda-1dc9-45bb-d48b-329aec8f3070"
      },
      "execution_count": 14,
      "outputs": [
        {
          "output_type": "execute_result",
          "data": {
            "text/plain": [
              "{1, 2.0, 3}"
            ]
          },
          "metadata": {},
          "execution_count": 14
        }
      ]
    },
    {
      "cell_type": "code",
      "source": [
        "list(set_1)"
      ],
      "metadata": {
        "colab": {
          "base_uri": "https://localhost:8080/"
        },
        "id": "fWIrk4CpPdLa",
        "outputId": "2f857ebd-7685-4876-ea4e-8ec9b480fa91"
      },
      "execution_count": 15,
      "outputs": [
        {
          "output_type": "execute_result",
          "data": {
            "text/plain": [
              "[1, 2.0, 3]"
            ]
          },
          "metadata": {},
          "execution_count": 15
        }
      ]
    },
    {
      "cell_type": "markdown",
      "source": [
        "#Accessing list"
      ],
      "metadata": {
        "id": "86t9ewN7P23B"
      }
    },
    {
      "cell_type": "code",
      "source": [
        "list_data_3 = ['Hello', 1, 2, 3, 4.0, 5+6j, 'Python']\n",
        "list_data_3"
      ],
      "metadata": {
        "colab": {
          "base_uri": "https://localhost:8080/"
        },
        "id": "unTIF2jOPnhX",
        "outputId": "cd0ad132-ac78-486c-a5cc-36b605805910"
      },
      "execution_count": 16,
      "outputs": [
        {
          "output_type": "execute_result",
          "data": {
            "text/plain": [
              "['Hello', 1, 2, 3, 4.0, (5+6j), 'Python']"
            ]
          },
          "metadata": {},
          "execution_count": 16
        }
      ]
    },
    {
      "cell_type": "code",
      "source": [
        "#positive indexing\n",
        "list_data_3[0:]"
      ],
      "metadata": {
        "colab": {
          "base_uri": "https://localhost:8080/"
        },
        "id": "YSUsJPaFQJq5",
        "outputId": "9db7d58a-4dcb-498a-cafb-44da7e219172"
      },
      "execution_count": 17,
      "outputs": [
        {
          "output_type": "execute_result",
          "data": {
            "text/plain": [
              "['Hello', 1, 2, 3, 4.0, (5+6j), 'Python']"
            ]
          },
          "metadata": {},
          "execution_count": 17
        }
      ]
    },
    {
      "cell_type": "code",
      "source": [
        "list_data_3[:5]"
      ],
      "metadata": {
        "colab": {
          "base_uri": "https://localhost:8080/"
        },
        "id": "ZY9ghoMJQTAm",
        "outputId": "d96dd7b7-b1ba-4f19-dbeb-afb94339df9c"
      },
      "execution_count": 18,
      "outputs": [
        {
          "output_type": "execute_result",
          "data": {
            "text/plain": [
              "['Hello', 1, 2, 3, 4.0]"
            ]
          },
          "metadata": {},
          "execution_count": 18
        }
      ]
    },
    {
      "cell_type": "code",
      "source": [
        "list_data_3[1:4]"
      ],
      "metadata": {
        "colab": {
          "base_uri": "https://localhost:8080/"
        },
        "id": "M2cMzAM0QaXG",
        "outputId": "87eea27c-6fac-4795-a180-6cfb0e48a3fd"
      },
      "execution_count": 19,
      "outputs": [
        {
          "output_type": "execute_result",
          "data": {
            "text/plain": [
              "[1, 2, 3]"
            ]
          },
          "metadata": {},
          "execution_count": 19
        }
      ]
    },
    {
      "cell_type": "code",
      "source": [
        "#elements can jump on the step of 2\n",
        "list_data_3[0::2]"
      ],
      "metadata": {
        "colab": {
          "base_uri": "https://localhost:8080/"
        },
        "id": "L-bTr8S6QhZ7",
        "outputId": "5825521c-bb79-4cac-d152-49db316806ec"
      },
      "execution_count": 20,
      "outputs": [
        {
          "output_type": "execute_result",
          "data": {
            "text/plain": [
              "['Hello', 2, 4.0, 'Python']"
            ]
          },
          "metadata": {},
          "execution_count": 20
        }
      ]
    },
    {
      "cell_type": "code",
      "source": [
        "#negative indexing\n",
        "list_data_3[-1]"
      ],
      "metadata": {
        "colab": {
          "base_uri": "https://localhost:8080/",
          "height": 35
        },
        "id": "cMQUdK3gQm_t",
        "outputId": "34a932ba-58b5-4cd2-d16d-3fb79ffb3f3f"
      },
      "execution_count": 21,
      "outputs": [
        {
          "output_type": "execute_result",
          "data": {
            "text/plain": [
              "'Python'"
            ],
            "application/vnd.google.colaboratory.intrinsic+json": {
              "type": "string"
            }
          },
          "metadata": {},
          "execution_count": 21
        }
      ]
    },
    {
      "cell_type": "code",
      "source": [
        "list_data_3[-1:]"
      ],
      "metadata": {
        "colab": {
          "base_uri": "https://localhost:8080/"
        },
        "id": "sNBONylGQ_ay",
        "outputId": "76494a8b-ce4a-442e-82cf-03ac151d7cb4"
      },
      "execution_count": 22,
      "outputs": [
        {
          "output_type": "execute_result",
          "data": {
            "text/plain": [
              "['Python']"
            ]
          },
          "metadata": {},
          "execution_count": 22
        }
      ]
    },
    {
      "cell_type": "code",
      "source": [
        "list_data_3[:-1]"
      ],
      "metadata": {
        "colab": {
          "base_uri": "https://localhost:8080/"
        },
        "id": "H-QdIigrQ7Mt",
        "outputId": "1d1bab83-2528-4a62-e87d-29e1d9a99191"
      },
      "execution_count": 23,
      "outputs": [
        {
          "output_type": "execute_result",
          "data": {
            "text/plain": [
              "['Hello', 1, 2, 3, 4.0, (5+6j)]"
            ]
          },
          "metadata": {},
          "execution_count": 23
        }
      ]
    },
    {
      "cell_type": "code",
      "source": [
        "list_data_3[3:-5]"
      ],
      "metadata": {
        "colab": {
          "base_uri": "https://localhost:8080/"
        },
        "id": "6CPiKxxYRO6n",
        "outputId": "8db9ce8f-e3c7-448e-cef1-ff0147a1b6fb"
      },
      "execution_count": 77,
      "outputs": [
        {
          "output_type": "execute_result",
          "data": {
            "text/plain": [
              "[]"
            ]
          },
          "metadata": {},
          "execution_count": 77
        }
      ]
    },
    {
      "cell_type": "code",
      "source": [
        "#reverse process\n",
        "list_data_3[-1::-1]"
      ],
      "metadata": {
        "colab": {
          "base_uri": "https://localhost:8080/"
        },
        "id": "43nsiChORVxG",
        "outputId": "0ffe014a-956e-400e-c4bd-b5afe7c1274a"
      },
      "execution_count": 25,
      "outputs": [
        {
          "output_type": "execute_result",
          "data": {
            "text/plain": [
              "['Python', (5+6j), 4.0, 3, 2, 1, 'Hello']"
            ]
          },
          "metadata": {},
          "execution_count": 25
        }
      ]
    },
    {
      "cell_type": "code",
      "source": [
        "list_data_3[-3:-1]"
      ],
      "metadata": {
        "colab": {
          "base_uri": "https://localhost:8080/"
        },
        "id": "rALNYNCaRfNH",
        "outputId": "a0751451-4497-42e9-f323-7002c6200497"
      },
      "execution_count": 26,
      "outputs": [
        {
          "output_type": "execute_result",
          "data": {
            "text/plain": [
              "[4.0, (5+6j)]"
            ]
          },
          "metadata": {},
          "execution_count": 26
        }
      ]
    },
    {
      "cell_type": "code",
      "source": [
        "#reverse process\n",
        "list_data_3[::-1]"
      ],
      "metadata": {
        "colab": {
          "base_uri": "https://localhost:8080/"
        },
        "id": "MXdApoz7RnMG",
        "outputId": "260e5334-c500-49a2-cb9b-26dfa2d93019"
      },
      "execution_count": 27,
      "outputs": [
        {
          "output_type": "execute_result",
          "data": {
            "text/plain": [
              "['Python', (5+6j), 4.0, 3, 2, 1, 'Hello']"
            ]
          },
          "metadata": {},
          "execution_count": 27
        }
      ]
    },
    {
      "cell_type": "markdown",
      "source": [
        "#List Manipulation"
      ],
      "metadata": {
        "id": "qg3oASX56Lou"
      }
    },
    {
      "cell_type": "code",
      "source": [
        "list_data_4 = ['Hello', 1, 2.0, (3+4j), [5,6,7], {8,9}]\n",
        "list_data_4"
      ],
      "metadata": {
        "colab": {
          "base_uri": "https://localhost:8080/"
        },
        "id": "TdZVCzGaXh-X",
        "outputId": "17734459-ff8b-4697-c32e-b1d0007d1f0e"
      },
      "execution_count": 28,
      "outputs": [
        {
          "output_type": "execute_result",
          "data": {
            "text/plain": [
              "['Hello', 1, 2.0, (3+4j), [5, 6, 7], {8, 9}]"
            ]
          },
          "metadata": {},
          "execution_count": 28
        }
      ]
    },
    {
      "cell_type": "code",
      "source": [
        "#change the value\n",
        "list_data_4[2] = 22\n",
        "list_data_4"
      ],
      "metadata": {
        "colab": {
          "base_uri": "https://localhost:8080/"
        },
        "id": "JZiPNzTn6SJf",
        "outputId": "29b1d9b8-e4fb-4f77-8e24-db8f5e427251"
      },
      "execution_count": 29,
      "outputs": [
        {
          "output_type": "execute_result",
          "data": {
            "text/plain": [
              "['Hello', 1, 22, (3+4j), [5, 6, 7], {8, 9}]"
            ]
          },
          "metadata": {},
          "execution_count": 29
        }
      ]
    },
    {
      "cell_type": "code",
      "source": [
        "#inserting more than one value\n",
        "list_data_4[3:6] = [33.0, (44+55j), 666]\n",
        "list_data_4"
      ],
      "metadata": {
        "colab": {
          "base_uri": "https://localhost:8080/"
        },
        "id": "2DI9eyWS60PD",
        "outputId": "f5aa9d39-5366-4df5-f0cb-133b36e07282"
      },
      "execution_count": 30,
      "outputs": [
        {
          "output_type": "execute_result",
          "data": {
            "text/plain": [
              "['Hello', 1, 22, 33.0, (44+55j), 666]"
            ]
          },
          "metadata": {},
          "execution_count": 30
        }
      ]
    },
    {
      "cell_type": "markdown",
      "source": [
        "#Adding data to list"
      ],
      "metadata": {
        "id": "GrvR3x4N7nBv"
      }
    },
    {
      "cell_type": "code",
      "source": [
        "list_data_5 = [1, 'PREM', 3.0, (4+5j), [6, 7, 8.0], {'CPP1':'10', 'CPP2':'20'}]\n",
        "list_data_5"
      ],
      "metadata": {
        "colab": {
          "base_uri": "https://localhost:8080/"
        },
        "id": "k8cLCE3W7OOa",
        "outputId": "c3b52ff1-e404-4e7f-9dba-d93b7db43153"
      },
      "execution_count": 31,
      "outputs": [
        {
          "output_type": "execute_result",
          "data": {
            "text/plain": [
              "[1, 'PREM', 3.0, (4+5j), [6, 7, 8.0], {'CPP1': '10', 'CPP2': '20'}]"
            ]
          },
          "metadata": {},
          "execution_count": 31
        }
      ]
    },
    {
      "cell_type": "code",
      "source": [
        "list_data_5.append('9.0')\n",
        "list_data_5"
      ],
      "metadata": {
        "colab": {
          "base_uri": "https://localhost:8080/"
        },
        "id": "ZImhgad-8ADB",
        "outputId": "d38c4a7d-cafb-4962-ce94-893a291a8f69"
      },
      "execution_count": 32,
      "outputs": [
        {
          "output_type": "execute_result",
          "data": {
            "text/plain": [
              "[1, 'PREM', 3.0, (4+5j), [6, 7, 8.0], {'CPP1': '10', 'CPP2': '20'}, '9.0']"
            ]
          },
          "metadata": {},
          "execution_count": 32
        }
      ]
    },
    {
      "cell_type": "code",
      "source": [
        "list_data_5.append(10+11j)\n",
        "list_data_5"
      ],
      "metadata": {
        "colab": {
          "base_uri": "https://localhost:8080/"
        },
        "id": "TtA2soU08K8V",
        "outputId": "f58c48e3-f6eb-40bf-8be5-d08f2303e071"
      },
      "execution_count": 33,
      "outputs": [
        {
          "output_type": "execute_result",
          "data": {
            "text/plain": [
              "[1,\n",
              " 'PREM',\n",
              " 3.0,\n",
              " (4+5j),\n",
              " [6, 7, 8.0],\n",
              " {'CPP1': '10', 'CPP2': '20'},\n",
              " '9.0',\n",
              " (10+11j)]"
            ]
          },
          "metadata": {},
          "execution_count": 33
        }
      ]
    },
    {
      "cell_type": "code",
      "source": [
        "list_data_5.insert(2,'Anand')\n",
        "list_data_5"
      ],
      "metadata": {
        "colab": {
          "base_uri": "https://localhost:8080/"
        },
        "id": "eYZynzZ_8TOO",
        "outputId": "f751b958-1e33-4a42-e1fc-db953c157b9b"
      },
      "execution_count": 34,
      "outputs": [
        {
          "output_type": "execute_result",
          "data": {
            "text/plain": [
              "[1,\n",
              " 'PREM',\n",
              " 'Anand',\n",
              " 3.0,\n",
              " (4+5j),\n",
              " [6, 7, 8.0],\n",
              " {'CPP1': '10', 'CPP2': '20'},\n",
              " '9.0',\n",
              " (10+11j)]"
            ]
          },
          "metadata": {},
          "execution_count": 34
        }
      ]
    },
    {
      "cell_type": "code",
      "source": [
        "list_data_5.extend({1111, 2222, 3333+4444j,\"extra\"})\n",
        "list_data_5"
      ],
      "metadata": {
        "colab": {
          "base_uri": "https://localhost:8080/"
        },
        "id": "7esX05lJ8kOf",
        "outputId": "ad428983-7c9b-4cfb-e907-a659c51f90de"
      },
      "execution_count": 35,
      "outputs": [
        {
          "output_type": "execute_result",
          "data": {
            "text/plain": [
              "[1,\n",
              " 'PREM',\n",
              " 'Anand',\n",
              " 3.0,\n",
              " (4+5j),\n",
              " [6, 7, 8.0],\n",
              " {'CPP1': '10', 'CPP2': '20'},\n",
              " '9.0',\n",
              " (10+11j),\n",
              " 'extra',\n",
              " (3333+4444j),\n",
              " 2222,\n",
              " 1111]"
            ]
          },
          "metadata": {},
          "execution_count": 35
        }
      ]
    },
    {
      "cell_type": "markdown",
      "source": [
        "#Remving data from list"
      ],
      "metadata": {
        "id": "fgE5E9bEAd-f"
      }
    },
    {
      "cell_type": "code",
      "source": [
        "list_data_6 = [1, 2, 3.0, [4, 5, 6+7j], 'python', 8.0]\n",
        "list_data_6"
      ],
      "metadata": {
        "colab": {
          "base_uri": "https://localhost:8080/"
        },
        "id": "Wh_9Qkrq9tO4",
        "outputId": "f0cb3286-5f75-45d9-c135-1674df02dd84"
      },
      "execution_count": 36,
      "outputs": [
        {
          "output_type": "execute_result",
          "data": {
            "text/plain": [
              "[1, 2, 3.0, [4, 5, (6+7j)], 'python', 8.0]"
            ]
          },
          "metadata": {},
          "execution_count": 36
        }
      ]
    },
    {
      "cell_type": "code",
      "source": [
        "list_data_6.remove('python')\n",
        "list_data_6"
      ],
      "metadata": {
        "colab": {
          "base_uri": "https://localhost:8080/"
        },
        "id": "ZPip4YyrAtEj",
        "outputId": "a1dadb10-7d8a-437f-d4be-9f627fb2b777"
      },
      "execution_count": 37,
      "outputs": [
        {
          "output_type": "execute_result",
          "data": {
            "text/plain": [
              "[1, 2, 3.0, [4, 5, (6+7j)], 8.0]"
            ]
          },
          "metadata": {},
          "execution_count": 37
        }
      ]
    },
    {
      "cell_type": "code",
      "source": [
        "list_data_6.remove(8.0)\n",
        "list_data_6"
      ],
      "metadata": {
        "colab": {
          "base_uri": "https://localhost:8080/"
        },
        "id": "LuxTVW8gAzVA",
        "outputId": "69f5309c-f2ad-4198-c212-e59539a4c2a6"
      },
      "execution_count": 38,
      "outputs": [
        {
          "output_type": "execute_result",
          "data": {
            "text/plain": [
              "[1, 2, 3.0, [4, 5, (6+7j)]]"
            ]
          },
          "metadata": {},
          "execution_count": 38
        }
      ]
    },
    {
      "cell_type": "code",
      "source": [
        "list_data_6.pop()"
      ],
      "metadata": {
        "colab": {
          "base_uri": "https://localhost:8080/"
        },
        "id": "Tca8bo1eA69J",
        "outputId": "363806a1-656e-4fa7-aba2-5825e3c0cbd8"
      },
      "execution_count": 39,
      "outputs": [
        {
          "output_type": "execute_result",
          "data": {
            "text/plain": [
              "[4, 5, (6+7j)]"
            ]
          },
          "metadata": {},
          "execution_count": 39
        }
      ]
    },
    {
      "cell_type": "code",
      "source": [
        "list_data_6"
      ],
      "metadata": {
        "colab": {
          "base_uri": "https://localhost:8080/"
        },
        "id": "6O9RbVSUA_tB",
        "outputId": "30ad9a74-36e1-4f33-c4c6-789102430aff"
      },
      "execution_count": 40,
      "outputs": [
        {
          "output_type": "execute_result",
          "data": {
            "text/plain": [
              "[1, 2, 3.0]"
            ]
          },
          "metadata": {},
          "execution_count": 40
        }
      ]
    },
    {
      "cell_type": "code",
      "source": [
        "list_data_6.pop(1)"
      ],
      "metadata": {
        "colab": {
          "base_uri": "https://localhost:8080/"
        },
        "id": "qr5nZQHMBEJi",
        "outputId": "9c59f63e-4f71-430a-cc1c-a551e32b1ab5"
      },
      "execution_count": 41,
      "outputs": [
        {
          "output_type": "execute_result",
          "data": {
            "text/plain": [
              "2"
            ]
          },
          "metadata": {},
          "execution_count": 41
        }
      ]
    },
    {
      "cell_type": "code",
      "source": [
        "list_data_6"
      ],
      "metadata": {
        "colab": {
          "base_uri": "https://localhost:8080/"
        },
        "id": "AxYxtHubBKVl",
        "outputId": "5d5d9401-81a0-4162-bf08-ec9877b203ff"
      },
      "execution_count": 42,
      "outputs": [
        {
          "output_type": "execute_result",
          "data": {
            "text/plain": [
              "[1, 3.0]"
            ]
          },
          "metadata": {},
          "execution_count": 42
        }
      ]
    },
    {
      "cell_type": "code",
      "source": [
        "del list_data_6[0]\n",
        "list_data_6"
      ],
      "metadata": {
        "colab": {
          "base_uri": "https://localhost:8080/"
        },
        "id": "fZCSFLY0BLzb",
        "outputId": "42afc77f-1fed-49a1-df6d-98f7681038b5"
      },
      "execution_count": 43,
      "outputs": [
        {
          "output_type": "execute_result",
          "data": {
            "text/plain": [
              "[3.0]"
            ]
          },
          "metadata": {},
          "execution_count": 43
        }
      ]
    },
    {
      "cell_type": "code",
      "source": [
        "list_data_7 = [1,2,3,4,5,6,7]\n",
        "list_data_7"
      ],
      "metadata": {
        "colab": {
          "base_uri": "https://localhost:8080/"
        },
        "id": "3I0gg_UNBW2H",
        "outputId": "2d1e7b88-ce47-4462-f191-34f8c4b8af1e"
      },
      "execution_count": 44,
      "outputs": [
        {
          "output_type": "execute_result",
          "data": {
            "text/plain": [
              "[1, 2, 3, 4, 5, 6, 7]"
            ]
          },
          "metadata": {},
          "execution_count": 44
        }
      ]
    },
    {
      "cell_type": "code",
      "source": [
        "list_data_7.clear()\n",
        "list_data_7"
      ],
      "metadata": {
        "colab": {
          "base_uri": "https://localhost:8080/"
        },
        "id": "gIYW90EtBe1c",
        "outputId": "9595e8cc-6f14-405b-ce61-82812a1ccbba"
      },
      "execution_count": 45,
      "outputs": [
        {
          "output_type": "execute_result",
          "data": {
            "text/plain": [
              "[]"
            ]
          },
          "metadata": {},
          "execution_count": 45
        }
      ]
    },
    {
      "cell_type": "markdown",
      "source": [
        "#Loops in list"
      ],
      "metadata": {
        "id": "bzCnSQHKBvEf"
      }
    },
    {
      "cell_type": "code",
      "source": [
        "name = 'PREMANAND'\n",
        "list_name = list(name)\n",
        "list_name"
      ],
      "metadata": {
        "colab": {
          "base_uri": "https://localhost:8080/"
        },
        "id": "2TCWx8V8BjIK",
        "outputId": "ebf7ec77-66e1-4716-dd45-3b3f78d90623"
      },
      "execution_count": 46,
      "outputs": [
        {
          "output_type": "execute_result",
          "data": {
            "text/plain": [
              "['P', 'R', 'E', 'M', 'A', 'N', 'A', 'N', 'D']"
            ]
          },
          "metadata": {},
          "execution_count": 46
        }
      ]
    },
    {
      "cell_type": "code",
      "source": [
        "for name_ in list_name:\n",
        "  print(name_)"
      ],
      "metadata": {
        "colab": {
          "base_uri": "https://localhost:8080/"
        },
        "id": "cRiL1o-JB2Vm",
        "outputId": "a9a74a48-43ed-422c-e0a3-41d476970e4d"
      },
      "execution_count": 47,
      "outputs": [
        {
          "output_type": "stream",
          "name": "stdout",
          "text": [
            "P\n",
            "R\n",
            "E\n",
            "M\n",
            "A\n",
            "N\n",
            "A\n",
            "N\n",
            "D\n"
          ]
        }
      ]
    },
    {
      "cell_type": "code",
      "source": [
        "#index based loop\n",
        "for i in range(len(list_name)):\n",
        "  print(list_name[i])"
      ],
      "metadata": {
        "colab": {
          "base_uri": "https://localhost:8080/"
        },
        "id": "xOO6QaV4CmFT",
        "outputId": "43b76582-7ee6-4b53-aee9-949826b6ac39"
      },
      "execution_count": 48,
      "outputs": [
        {
          "output_type": "stream",
          "name": "stdout",
          "text": [
            "P\n",
            "R\n",
            "E\n",
            "M\n",
            "A\n",
            "N\n",
            "A\n",
            "N\n",
            "D\n"
          ]
        }
      ]
    },
    {
      "cell_type": "code",
      "source": [
        "index = 0\n",
        "while index < len(list_name):\n",
        "  print(list_name[index])\n",
        "  index += 1"
      ],
      "metadata": {
        "colab": {
          "base_uri": "https://localhost:8080/"
        },
        "id": "2Jdc4YvxConB",
        "outputId": "aff2cd7d-066b-4e03-d3f8-5d6a344e5717"
      },
      "execution_count": 49,
      "outputs": [
        {
          "output_type": "stream",
          "name": "stdout",
          "text": [
            "P\n",
            "R\n",
            "E\n",
            "M\n",
            "A\n",
            "N\n",
            "A\n",
            "N\n",
            "D\n"
          ]
        }
      ]
    },
    {
      "cell_type": "markdown",
      "source": [
        "#Sort operation in list"
      ],
      "metadata": {
        "id": "QiDag_SPE3JB"
      }
    },
    {
      "cell_type": "code",
      "source": [
        "list_data_8 = [2, 5, 10, 7, 1, 23, 65, 45, 0]\n",
        "list_data_8"
      ],
      "metadata": {
        "colab": {
          "base_uri": "https://localhost:8080/"
        },
        "id": "IwjEW9QMDQUr",
        "outputId": "b8023bae-8ed3-40d1-d754-3811b8a8cdfe"
      },
      "execution_count": 50,
      "outputs": [
        {
          "output_type": "execute_result",
          "data": {
            "text/plain": [
              "[2, 5, 10, 7, 1, 23, 65, 45, 0]"
            ]
          },
          "metadata": {},
          "execution_count": 50
        }
      ]
    },
    {
      "cell_type": "code",
      "source": [
        "list_data_8.sort()\n",
        "list_data_8"
      ],
      "metadata": {
        "colab": {
          "base_uri": "https://localhost:8080/"
        },
        "id": "6HoJzokCFKvH",
        "outputId": "395707a6-a728-4b8b-d566-a345ff18f57d"
      },
      "execution_count": 51,
      "outputs": [
        {
          "output_type": "execute_result",
          "data": {
            "text/plain": [
              "[0, 1, 2, 5, 7, 10, 23, 45, 65]"
            ]
          },
          "metadata": {},
          "execution_count": 51
        }
      ]
    },
    {
      "cell_type": "code",
      "source": [
        "list_data_8.sort(reverse = True)\n",
        "list_data_8"
      ],
      "metadata": {
        "colab": {
          "base_uri": "https://localhost:8080/"
        },
        "id": "KBVc7ltOKpfY",
        "outputId": "124de3b5-9ac2-4537-fb4d-0958873facad"
      },
      "execution_count": 52,
      "outputs": [
        {
          "output_type": "execute_result",
          "data": {
            "text/plain": [
              "[65, 45, 23, 10, 7, 5, 2, 1, 0]"
            ]
          },
          "metadata": {},
          "execution_count": 52
        }
      ]
    },
    {
      "cell_type": "code",
      "source": [
        "list_data_9 = ['zebra','xylophone','horse','apple','bat','cat','goat']\n",
        "list_data_9"
      ],
      "metadata": {
        "colab": {
          "base_uri": "https://localhost:8080/"
        },
        "id": "_EkLMA7AFN5t",
        "outputId": "a0a3fdb3-8826-4e1c-e004-bef7bc14fb78"
      },
      "execution_count": 53,
      "outputs": [
        {
          "output_type": "execute_result",
          "data": {
            "text/plain": [
              "['zebra', 'xylophone', 'horse', 'apple', 'bat', 'cat', 'goat']"
            ]
          },
          "metadata": {},
          "execution_count": 53
        }
      ]
    },
    {
      "cell_type": "code",
      "source": [
        "list_data_9.sort()\n",
        "list_data_9"
      ],
      "metadata": {
        "colab": {
          "base_uri": "https://localhost:8080/"
        },
        "id": "p3NTTqmLFTGn",
        "outputId": "c0185e1b-3837-40ef-d6b5-4efbc8cb859b"
      },
      "execution_count": 54,
      "outputs": [
        {
          "output_type": "execute_result",
          "data": {
            "text/plain": [
              "['apple', 'bat', 'cat', 'goat', 'horse', 'xylophone', 'zebra']"
            ]
          },
          "metadata": {},
          "execution_count": 54
        }
      ]
    },
    {
      "cell_type": "code",
      "source": [
        "list_data_9.sort(reverse = True)\n",
        "list_data_9"
      ],
      "metadata": {
        "colab": {
          "base_uri": "https://localhost:8080/"
        },
        "id": "nPU3ylw1KhST",
        "outputId": "24fc5a07-e5ac-40ed-852d-16391572c9fc"
      },
      "execution_count": 55,
      "outputs": [
        {
          "output_type": "execute_result",
          "data": {
            "text/plain": [
              "['zebra', 'xylophone', 'horse', 'goat', 'cat', 'bat', 'apple']"
            ]
          },
          "metadata": {},
          "execution_count": 55
        }
      ]
    },
    {
      "cell_type": "code",
      "source": [
        "list_data_10 = ['apple', 'Python', 'prem', 'Axe', 'Cat', 'dog']\n",
        "list_data_10"
      ],
      "metadata": {
        "colab": {
          "base_uri": "https://localhost:8080/"
        },
        "id": "8wGCiX3yKwA-",
        "outputId": "c66b5f71-6efb-4594-cea6-e0c4760afd36"
      },
      "execution_count": 56,
      "outputs": [
        {
          "output_type": "execute_result",
          "data": {
            "text/plain": [
              "['apple', 'Python', 'prem', 'Axe', 'Cat', 'dog']"
            ]
          },
          "metadata": {},
          "execution_count": 56
        }
      ]
    },
    {
      "cell_type": "code",
      "source": [
        "list_data_10.sort()\n",
        "list_data_10"
      ],
      "metadata": {
        "colab": {
          "base_uri": "https://localhost:8080/"
        },
        "id": "Jb1qEAABLlwr",
        "outputId": "c2e184cc-6e22-40ed-9afd-cfd80062ce09"
      },
      "execution_count": 57,
      "outputs": [
        {
          "output_type": "execute_result",
          "data": {
            "text/plain": [
              "['Axe', 'Cat', 'Python', 'apple', 'dog', 'prem']"
            ]
          },
          "metadata": {},
          "execution_count": 57
        }
      ]
    },
    {
      "cell_type": "code",
      "source": [
        "list_data_10.sort(key=str.lower)\n",
        "list_data_10"
      ],
      "metadata": {
        "colab": {
          "base_uri": "https://localhost:8080/"
        },
        "id": "fdOQPJM3Lr3r",
        "outputId": "cea1cb9f-0c0a-40e2-e96c-0e1546f8aa62"
      },
      "execution_count": 58,
      "outputs": [
        {
          "output_type": "execute_result",
          "data": {
            "text/plain": [
              "['apple', 'Axe', 'Cat', 'dog', 'prem', 'Python']"
            ]
          },
          "metadata": {},
          "execution_count": 58
        }
      ]
    },
    {
      "cell_type": "markdown",
      "source": [
        "#Operator in list"
      ],
      "metadata": {
        "id": "fGRHLTYcOEWU"
      }
    },
    {
      "cell_type": "code",
      "source": [
        "list_1 = ['PREM']\n",
        "list_2 = ['ANAND']\n",
        "\n",
        "list_3 = list_1 + list_2\n",
        "list_3"
      ],
      "metadata": {
        "colab": {
          "base_uri": "https://localhost:8080/"
        },
        "id": "_VVuPijBL5Pa",
        "outputId": "ae4d56e0-944e-445a-f9f0-7be4551ae765"
      },
      "execution_count": 59,
      "outputs": [
        {
          "output_type": "execute_result",
          "data": {
            "text/plain": [
              "['PREM', 'ANAND']"
            ]
          },
          "metadata": {},
          "execution_count": 59
        }
      ]
    },
    {
      "cell_type": "code",
      "source": [
        "list_4 = ['PREM'] * 3\n",
        "list_4"
      ],
      "metadata": {
        "colab": {
          "base_uri": "https://localhost:8080/"
        },
        "id": "W1qb2bAwOQ1j",
        "outputId": "93249b0f-1ce7-44e6-f325-794ca7264147"
      },
      "execution_count": 60,
      "outputs": [
        {
          "output_type": "execute_result",
          "data": {
            "text/plain": [
              "['PREM', 'PREM', 'PREM']"
            ]
          },
          "metadata": {},
          "execution_count": 60
        }
      ]
    },
    {
      "cell_type": "markdown",
      "source": [
        "#Other function"
      ],
      "metadata": {
        "id": "OJKgZj75Ofv0"
      }
    },
    {
      "cell_type": "code",
      "source": [
        "list_5 = [10, 22, 55, 4, 6 , 9, 2, 3]\n",
        "list_5.reverse()\n",
        "list_5"
      ],
      "metadata": {
        "colab": {
          "base_uri": "https://localhost:8080/"
        },
        "id": "e44Y3I1nOYSr",
        "outputId": "a834b3ba-a758-40af-93f1-8abbb829ee2e"
      },
      "execution_count": 61,
      "outputs": [
        {
          "output_type": "execute_result",
          "data": {
            "text/plain": [
              "[3, 2, 9, 6, 4, 55, 22, 10]"
            ]
          },
          "metadata": {},
          "execution_count": 61
        }
      ]
    },
    {
      "cell_type": "code",
      "source": [
        "list_6 = [1,2,3,4,5,6,1,2,3,1,2,1,1,1,13,4,5,6,7,2,3,4,2,2]\n",
        "list_6.count(1)"
      ],
      "metadata": {
        "colab": {
          "base_uri": "https://localhost:8080/"
        },
        "id": "RcA2I9pcOuLF",
        "outputId": "3a1f6142-70ee-4735-9e68-940fd3efc47c"
      },
      "execution_count": 62,
      "outputs": [
        {
          "output_type": "execute_result",
          "data": {
            "text/plain": [
              "6"
            ]
          },
          "metadata": {},
          "execution_count": 62
        }
      ]
    },
    {
      "cell_type": "code",
      "source": [
        "list_6.count(23)"
      ],
      "metadata": {
        "colab": {
          "base_uri": "https://localhost:8080/"
        },
        "id": "qGYi_IU6Pqm2",
        "outputId": "217e9280-d38c-4e5a-9bb8-02bffedb450f"
      },
      "execution_count": 63,
      "outputs": [
        {
          "output_type": "execute_result",
          "data": {
            "text/plain": [
              "0"
            ]
          },
          "metadata": {},
          "execution_count": 63
        }
      ]
    },
    {
      "cell_type": "code",
      "source": [
        "list_7 = ['prem', 'anand', 'cpp', 'python', 'jnb']\n",
        "list_7.index('anand')"
      ],
      "metadata": {
        "colab": {
          "base_uri": "https://localhost:8080/"
        },
        "id": "WqDpG2m2AfVP",
        "outputId": "690260e7-1e6a-413d-a538-c24f9ee64aaa"
      },
      "execution_count": 64,
      "outputs": [
        {
          "output_type": "execute_result",
          "data": {
            "text/plain": [
              "1"
            ]
          },
          "metadata": {},
          "execution_count": 64
        }
      ]
    },
    {
      "cell_type": "code",
      "source": [
        "list_8 = list_7.copy()\n",
        "list_8"
      ],
      "metadata": {
        "colab": {
          "base_uri": "https://localhost:8080/"
        },
        "id": "38fGR3osBHXA",
        "outputId": "7695330c-e7f4-4bd0-d3b6-28cc973a8e97"
      },
      "execution_count": 65,
      "outputs": [
        {
          "output_type": "execute_result",
          "data": {
            "text/plain": [
              "['prem', 'anand', 'cpp', 'python', 'jnb']"
            ]
          },
          "metadata": {},
          "execution_count": 65
        }
      ]
    },
    {
      "cell_type": "markdown",
      "source": [
        "#List Comprehension "
      ],
      "metadata": {
        "id": "9LUMSTiDSfB1"
      }
    },
    {
      "cell_type": "code",
      "source": [
        "[expression for item in list]"
      ],
      "metadata": {
        "id": "pQ_yALJewwhH",
        "colab": {
          "base_uri": "https://localhost:8080/",
          "height": 167
        },
        "outputId": "6109f3cf-ea9b-4bd8-c92a-93ce8b121408"
      },
      "execution_count": 66,
      "outputs": [
        {
          "output_type": "error",
          "ename": "TypeError",
          "evalue": "ignored",
          "traceback": [
            "\u001b[0;31m---------------------------------------------------------------------------\u001b[0m",
            "\u001b[0;31mTypeError\u001b[0m                                 Traceback (most recent call last)",
            "\u001b[0;32m<ipython-input-66-c1731a7f4fe7>\u001b[0m in \u001b[0;36m<module>\u001b[0;34m\u001b[0m\n\u001b[0;32m----> 1\u001b[0;31m \u001b[0;34m[\u001b[0m\u001b[0mexpression\u001b[0m \u001b[0;32mfor\u001b[0m \u001b[0mitem\u001b[0m \u001b[0;32min\u001b[0m \u001b[0mlist\u001b[0m\u001b[0;34m]\u001b[0m\u001b[0;34m\u001b[0m\u001b[0;34m\u001b[0m\u001b[0m\n\u001b[0m",
            "\u001b[0;31mTypeError\u001b[0m: 'type' object is not iterable"
          ]
        }
      ]
    },
    {
      "cell_type": "code",
      "source": [
        "h_letters = []\n",
        "\n",
        "for letter in 'python':\n",
        "    h_letters.append(letter)\n",
        "\n",
        "print(h_letters)"
      ],
      "metadata": {
        "id": "91IIHVAjwigK"
      },
      "execution_count": null,
      "outputs": []
    },
    {
      "cell_type": "markdown",
      "source": [
        "![image.png](data:image/png;base64,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)"
      ],
      "metadata": {
        "id": "i1kTWyWYw2mL"
      }
    },
    {
      "cell_type": "code",
      "source": [
        "h_letters = [ letter for letter in 'python' ]\n",
        "print( h_letters)"
      ],
      "metadata": {
        "id": "VaxFS7wbwmFD"
      },
      "execution_count": null,
      "outputs": []
    },
    {
      "cell_type": "code",
      "source": [
        "technology = ['AI', 'ML', 'DL', 'CV','python', 'r']\n",
        "technology"
      ],
      "metadata": {
        "id": "8RBwQTAcPuI5"
      },
      "execution_count": null,
      "outputs": []
    },
    {
      "cell_type": "code",
      "source": [
        "[a for a in technology if a not in [\"python\", \"r\"]]"
      ],
      "metadata": {
        "id": "zztFtmlVS4Yw"
      },
      "execution_count": null,
      "outputs": []
    },
    {
      "cell_type": "code",
      "source": [
        "[b for b in range(20)]"
      ],
      "metadata": {
        "id": "OBgyBd5BTDD9"
      },
      "execution_count": null,
      "outputs": []
    },
    {
      "cell_type": "code",
      "source": [
        "[c for c in range(20) if c>15]"
      ],
      "metadata": {
        "id": "JVH9C5j6TKbZ"
      },
      "execution_count": null,
      "outputs": []
    },
    {
      "cell_type": "code",
      "source": [
        "[d.lower() for d in technology]"
      ],
      "metadata": {
        "id": "ugzej-JwTSu8"
      },
      "execution_count": null,
      "outputs": []
    },
    {
      "cell_type": "code",
      "source": [
        "list_int = [1,2,3,4,5,6,7,8,9,10]\n",
        "[e for e in list_int if e%2==0]"
      ],
      "metadata": {
        "id": "ykFFcyy9ThIO"
      },
      "execution_count": null,
      "outputs": []
    },
    {
      "cell_type": "code",
      "source": [
        "name = '#PREM#ANAND'\n",
        "print(name)\n",
        "type(name)"
      ],
      "metadata": {
        "id": "P-JxOkrmsTom"
      },
      "execution_count": null,
      "outputs": []
    },
    {
      "cell_type": "code",
      "source": [
        "#methods in list\n",
        "dir(list)"
      ],
      "metadata": {
        "id": "1WPPRQSlxM8f"
      },
      "execution_count": null,
      "outputs": []
    },
    {
      "cell_type": "code",
      "source": [
        "len(dir(list))"
      ],
      "metadata": {
        "id": "3Gr24mAgxO2B"
      },
      "execution_count": null,
      "outputs": []
    },
    {
      "cell_type": "code",
      "source": [],
      "metadata": {
        "id": "ArqV41FAxZTU"
      },
      "execution_count": null,
      "outputs": []
    }
  ]
}