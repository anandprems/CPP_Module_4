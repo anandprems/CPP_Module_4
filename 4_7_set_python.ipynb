{
  "nbformat": 4,
  "nbformat_minor": 0,
  "metadata": {
    "colab": {
      "provenance": []
    },
    "kernelspec": {
      "name": "python3",
      "display_name": "Python 3"
    },
    "language_info": {
      "name": "python"
    }
  },
  "cells": [
    {
      "cell_type": "markdown",
      "source": [
        "\n",
        "\n",
        "1.   Unordered data\n",
        "2.   different data types in python like integer, string, float, tuple, etc.\n",
        "3.   remove duplicate data or items from a list\n",
        "4.   union and intersection between two sets\n",
        "5.   You can not store built-in data structures (like list, dictionary, set, etc.) inside a set except tuple.\n",
        "6.   Mutable - add or delete\n",
        "\n"
      ],
      "metadata": {
        "id": "OCXYYlWqxjCC"
      }
    },
    {
      "cell_type": "markdown",
      "source": [
        "#Create set"
      ],
      "metadata": {
        "id": "3LhFROQox_l3"
      }
    },
    {
      "cell_type": "code",
      "execution_count": 1,
      "metadata": {
        "colab": {
          "base_uri": "https://localhost:8080/"
        },
        "id": "WAjfd8aTw4wZ",
        "outputId": "e81e0af9-4384-4dbb-c4bb-21e774bd3a70"
      },
      "outputs": [
        {
          "output_type": "stream",
          "name": "stdout",
          "text": [
            "{1, 2, 3, 4, (1, 3, 5, 7), 'five'}\n"
          ]
        }
      ],
      "source": [
        "set1 = {1,2,3,4,'five',(1,3,5,7)}\n",
        "print(set1)"
      ]
    },
    {
      "cell_type": "code",
      "source": [
        "print(type(set1))"
      ],
      "metadata": {
        "colab": {
          "base_uri": "https://localhost:8080/"
        },
        "id": "dYz1RF5EydQG",
        "outputId": "b4e6e327-b826-4dcb-808f-3e3843e1d650"
      },
      "execution_count": 2,
      "outputs": [
        {
          "output_type": "stream",
          "name": "stdout",
          "text": [
            "<class 'set'>\n"
          ]
        }
      ]
    },
    {
      "cell_type": "code",
      "source": [
        "set2 = {{'name':'premanand','age':35}, [5,4]}\n",
        "print(set2)"
      ],
      "metadata": {
        "colab": {
          "base_uri": "https://localhost:8080/",
          "height": 182
        },
        "id": "-Q7PttNDyeLt",
        "outputId": "84b99c90-52e0-452d-e62e-d06ccc0753a4"
      },
      "execution_count": 6,
      "outputs": [
        {
          "output_type": "error",
          "ename": "TypeError",
          "evalue": "ignored",
          "traceback": [
            "\u001b[0;31m---------------------------------------------------------------------------\u001b[0m",
            "\u001b[0;31mTypeError\u001b[0m                                 Traceback (most recent call last)",
            "\u001b[0;32m<ipython-input-6-05b8d0b3deca>\u001b[0m in \u001b[0;36m<module>\u001b[0;34m\u001b[0m\n\u001b[0;32m----> 1\u001b[0;31m \u001b[0mset2\u001b[0m \u001b[0;34m=\u001b[0m \u001b[0;34m{\u001b[0m\u001b[0;34m{\u001b[0m\u001b[0;34m'name'\u001b[0m\u001b[0;34m:\u001b[0m\u001b[0;34m'premanand'\u001b[0m\u001b[0;34m,\u001b[0m\u001b[0;34m'age'\u001b[0m\u001b[0;34m:\u001b[0m\u001b[0;36m35\u001b[0m\u001b[0;34m}\u001b[0m\u001b[0;34m,\u001b[0m \u001b[0;34m[\u001b[0m\u001b[0;36m5\u001b[0m\u001b[0;34m,\u001b[0m\u001b[0;36m4\u001b[0m\u001b[0;34m]\u001b[0m\u001b[0;34m}\u001b[0m\u001b[0;34m\u001b[0m\u001b[0;34m\u001b[0m\u001b[0m\n\u001b[0m\u001b[1;32m      2\u001b[0m \u001b[0mprint\u001b[0m\u001b[0;34m(\u001b[0m\u001b[0mset2\u001b[0m\u001b[0;34m)\u001b[0m\u001b[0;34m\u001b[0m\u001b[0;34m\u001b[0m\u001b[0m\n",
            "\u001b[0;31mTypeError\u001b[0m: unhashable type: 'dict'"
          ]
        }
      ]
    },
    {
      "cell_type": "markdown",
      "source": [
        "#Empty set"
      ],
      "metadata": {
        "id": "_3G0YWIT6A3M"
      }
    },
    {
      "cell_type": "code",
      "source": [
        "my_set1 = set()\n",
        "print(my_set1)\n",
        "print(type(my_set1))"
      ],
      "metadata": {
        "colab": {
          "base_uri": "https://localhost:8080/"
        },
        "id": "LfYEf7wWy7hk",
        "outputId": "c6565fac-e59b-4041-964d-a72f2d3e10e4"
      },
      "execution_count": 7,
      "outputs": [
        {
          "output_type": "stream",
          "name": "stdout",
          "text": [
            "set()\n"
          ]
        }
      ]
    },
    {
      "cell_type": "code",
      "source": [
        "my_set2 = {}\n",
        "print(my_set2)\n",
        "print(type(my_set2))"
      ],
      "metadata": {
        "colab": {
          "base_uri": "https://localhost:8080/"
        },
        "id": "6hxYtX9_6Idn",
        "outputId": "96f66486-9eb9-4fc5-b04a-8a4973461d5e"
      },
      "execution_count": 9,
      "outputs": [
        {
          "output_type": "stream",
          "name": "stdout",
          "text": [
            "{}\n",
            "<class 'dict'>\n"
          ]
        }
      ]
    },
    {
      "cell_type": "markdown",
      "source": [
        "#Manipulation"
      ],
      "metadata": {
        "id": "MS1V3gbF63WJ"
      }
    },
    {
      "cell_type": "code",
      "source": [
        "my_set3 = set()\n",
        "print(my_set1)\n",
        "\n",
        "my_set3.add(1)\n",
        "my_set3.add(3)\n",
        "my_set3.add(5)\n",
        "my_set3.add('python')\n",
        "my_set3.add(5.3)\n",
        "\n",
        "print(my_set3)"
      ],
      "metadata": {
        "colab": {
          "base_uri": "https://localhost:8080/"
        },
        "id": "l9Fx3tTs6tt9",
        "outputId": "8747a6f6-f561-4e90-b1a6-eb2dacd2aec5"
      },
      "execution_count": 10,
      "outputs": [
        {
          "output_type": "stream",
          "name": "stdout",
          "text": [
            "set()\n",
            "{1, 3, 5.3, 5, 'python'}\n"
          ]
        }
      ]
    },
    {
      "cell_type": "code",
      "source": [
        "set4 = {1,2,3,4,'five',(1,3,5,7)}\n",
        "print(set4)\n",
        "\n",
        "set4.remove((1,3,5,7))\n",
        "print(set4)\n",
        "\n",
        "set4.remove('five')\n",
        "set4.remove(1)\n",
        "set4.remove(2)\n",
        "print(set4)\n",
        "\n",
        "set4.remove(3)\n",
        "set4.remove(4)\n",
        "print(set4)"
      ],
      "metadata": {
        "colab": {
          "base_uri": "https://localhost:8080/"
        },
        "id": "-LsNiE4d7DE0",
        "outputId": "4e106ac2-7993-49a7-fb7d-526304bdd206"
      },
      "execution_count": 11,
      "outputs": [
        {
          "output_type": "stream",
          "name": "stdout",
          "text": [
            "{1, 2, 3, 4, (1, 3, 5, 7), 'five'}\n",
            "{1, 2, 3, 4, 'five'}\n",
            "{3, 4}\n",
            "set()\n"
          ]
        }
      ]
    },
    {
      "cell_type": "markdown",
      "source": [
        "#With loops"
      ],
      "metadata": {
        "id": "no_mdk437bWq"
      }
    },
    {
      "cell_type": "code",
      "source": [
        "set2 = {1, 3, 5, 5.3, 'python'}\n",
        "for i in set2:\n",
        "    print(i)"
      ],
      "metadata": {
        "colab": {
          "base_uri": "https://localhost:8080/"
        },
        "id": "R9ONi1HO7XUr",
        "outputId": "f5479aa9-ffc4-4d52-ace5-cacc858350c0"
      },
      "execution_count": 12,
      "outputs": [
        {
          "output_type": "stream",
          "name": "stdout",
          "text": [
            "1\n",
            "3\n",
            "5.3\n",
            "5\n",
            "python\n"
          ]
        }
      ]
    },
    {
      "cell_type": "markdown",
      "source": [
        "#union & intersection"
      ],
      "metadata": {
        "id": "AYH8-vge8AE7"
      }
    },
    {
      "cell_type": "code",
      "source": [
        "s1 = {1,2,3}\n",
        "s2 = {3,4,5,6,7,8,9}\n",
        "\n",
        "print('s1 = ',s1)\n",
        "print('s2 = ',s2)\n",
        "\n",
        "print('union = ',s1.union(s2))\n",
        "print('intersection = ',s1.intersection(s2))"
      ],
      "metadata": {
        "colab": {
          "base_uri": "https://localhost:8080/"
        },
        "id": "y0uQVtCC755L",
        "outputId": "d2087a48-6000-4c38-a7f4-3d7e32f02a2c"
      },
      "execution_count": 13,
      "outputs": [
        {
          "output_type": "stream",
          "name": "stdout",
          "text": [
            "s1 =  {1, 2, 3}\n",
            "s2 =  {3, 4, 5, 6, 7, 8, 9}\n",
            "union =  {1, 2, 3, 4, 5, 6, 7, 8, 9}\n",
            "intersection =  {3}\n"
          ]
        }
      ]
    },
    {
      "cell_type": "code",
      "source": [
        "s1 = {1,2,3}\n",
        "s2 = {3,4,5,6,7,8,9}\n",
        "\n",
        "print('s1 = ',s1)\n",
        "print('s2 = ',s2)\n",
        "\n",
        "s3 = s1 | s2\n",
        "print('union = ',s3)\n",
        "\n",
        "s4 = s1 & s2\n",
        "print('intersection = ',s4)"
      ],
      "metadata": {
        "colab": {
          "base_uri": "https://localhost:8080/"
        },
        "id": "OVyBhEdq8GmW",
        "outputId": "1511dc8a-3725-4d66-c41f-b214613305c3"
      },
      "execution_count": 14,
      "outputs": [
        {
          "output_type": "stream",
          "name": "stdout",
          "text": [
            "s1 =  {1, 2, 3}\n",
            "s2 =  {3, 4, 5, 6, 7, 8, 9}\n",
            "union =  {1, 2, 3, 4, 5, 6, 7, 8, 9}\n",
            "intersection =  {3}\n"
          ]
        }
      ]
    },
    {
      "cell_type": "markdown",
      "source": [
        "#Removing duplicate"
      ],
      "metadata": {
        "id": "gDHIiXmX9AXc"
      }
    },
    {
      "cell_type": "code",
      "source": [
        "l1 = [1,1,2,3,4,2,5,6,7,5,4]\n",
        "print(list(set(l1)))"
      ],
      "metadata": {
        "colab": {
          "base_uri": "https://localhost:8080/"
        },
        "id": "1RIjRw5F8hKI",
        "outputId": "15763c3b-4b3e-48df-c9e6-78eed101d837"
      },
      "execution_count": 15,
      "outputs": [
        {
          "output_type": "stream",
          "name": "stdout",
          "text": [
            "[1, 2, 3, 4, 5, 6, 7]\n"
          ]
        }
      ]
    },
    {
      "cell_type": "code",
      "source": [],
      "metadata": {
        "id": "1YwpJJVM9D61"
      },
      "execution_count": null,
      "outputs": []
    }
  ]
}