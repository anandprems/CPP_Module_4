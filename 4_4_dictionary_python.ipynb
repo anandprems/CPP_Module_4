{
  "nbformat": 4,
  "nbformat_minor": 0,
  "metadata": {
    "colab": {
      "provenance": []
    },
    "kernelspec": {
      "name": "python3",
      "display_name": "Python 3"
    },
    "language_info": {
      "name": "python"
    }
  },
  "cells": [
    {
      "cell_type": "markdown",
      "source": [
        "\n",
        "\n",
        "1.   Built in data structure\n",
        "2.   Unordered data\n",
        "3.   Key : Value \n",
        "4.   Key is unique in dictionary\n",
        "5.   Value - int, list, float, tuple, etc.. \n",
        "\n"
      ],
      "metadata": {
        "id": "PBjNybUsh7Nq"
      }
    },
    {
      "cell_type": "markdown",
      "source": [
        "![image.png](data:image/png;base64,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)"
      ],
      "metadata": {
        "id": "SVuEFMlEiVou"
      }
    },
    {
      "cell_type": "markdown",
      "source": [
        "Why Dictionary? - Real time \n"
      ],
      "metadata": {
        "id": "OBBVygFNihrd"
      }
    },
    {
      "cell_type": "markdown",
      "source": [
        "#Creating Dictionary"
      ],
      "metadata": {
        "id": "OLhtUFlbis5k"
      }
    },
    {
      "cell_type": "code",
      "source": [
        "name = {'name':'premanand','age':35,'collage':'VIT'}\n",
        "print(name)"
      ],
      "metadata": {
        "colab": {
          "base_uri": "https://localhost:8080/"
        },
        "id": "OuXrhZwfipVu",
        "outputId": "88c5abc8-373f-4018-eac8-fadf1d6548ce"
      },
      "execution_count": 9,
      "outputs": [
        {
          "output_type": "stream",
          "name": "stdout",
          "text": [
            "{'name': 'premanand', 'age': 35, 'collage': 'VIT'}\n"
          ]
        }
      ]
    },
    {
      "cell_type": "code",
      "source": [
        "name1 = dict(name = 'premanand', age = 35, collage = 'VIT')\n",
        "print(name1)"
      ],
      "metadata": {
        "colab": {
          "base_uri": "https://localhost:8080/"
        },
        "id": "7Kc-Oztq0oOd",
        "outputId": "9698ca94-dcd2-48da-847b-e1c5ae24f2e8"
      },
      "execution_count": 10,
      "outputs": [
        {
          "output_type": "stream",
          "name": "stdout",
          "text": [
            "{'name': 'premanand', 'age': 35, 'collage': 'VIT'}\n"
          ]
        }
      ]
    },
    {
      "cell_type": "code",
      "source": [
        "type(name)"
      ],
      "metadata": {
        "colab": {
          "base_uri": "https://localhost:8080/"
        },
        "id": "2JMd9KL5jFqi",
        "outputId": "8a110a0b-31f7-4f81-bd20-e8b0317879cd"
      },
      "execution_count": 11,
      "outputs": [
        {
          "output_type": "execute_result",
          "data": {
            "text/plain": [
              "dict"
            ]
          },
          "metadata": {},
          "execution_count": 11
        }
      ]
    },
    {
      "cell_type": "code",
      "source": [
        "type(name1)"
      ],
      "metadata": {
        "colab": {
          "base_uri": "https://localhost:8080/"
        },
        "id": "DdFM5aOyjHQK",
        "outputId": "3f7a8707-fc87-4df1-ee59-eabba3c34a03"
      },
      "execution_count": 12,
      "outputs": [
        {
          "output_type": "execute_result",
          "data": {
            "text/plain": [
              "dict"
            ]
          },
          "metadata": {},
          "execution_count": 12
        }
      ]
    },
    {
      "cell_type": "markdown",
      "source": [
        "#Accessing data"
      ],
      "metadata": {
        "id": "BWm7gYB4ja_l"
      }
    },
    {
      "cell_type": "code",
      "source": [
        "name = {'name':'premanand','age':35,'college':'VIT'}\n",
        "print(name['name'])\n",
        "print(name['age'])\n",
        "print(name['college'])"
      ],
      "metadata": {
        "colab": {
          "base_uri": "https://localhost:8080/"
        },
        "id": "EH90kcQCjIpT",
        "outputId": "fc429fa8-04f3-47bd-8aac-ee82fcd29797"
      },
      "execution_count": 15,
      "outputs": [
        {
          "output_type": "stream",
          "name": "stdout",
          "text": [
            "premanand\n",
            "35\n",
            "VIT\n"
          ]
        }
      ]
    },
    {
      "cell_type": "code",
      "source": [
        "user_info = {\n",
        "    'name': 'premanand',\n",
        "    'age': 35,\n",
        "    'fav_movie': ['TT','V'],\n",
        "    'fav_tune': ['PN','RT']\n",
        "}\n",
        "print(user_info)\n",
        "print(user_info['fav_movie'])"
      ],
      "metadata": {
        "colab": {
          "base_uri": "https://localhost:8080/"
        },
        "id": "iRa6BQuUj4zQ",
        "outputId": "184dd8cd-b852-4d4b-9157-bb6dc81e2ebf"
      },
      "execution_count": 17,
      "outputs": [
        {
          "output_type": "stream",
          "name": "stdout",
          "text": [
            "{'name': 'premanand', 'age': 35, 'fav_movie': ['TT', 'V'], 'fav_tune': ['PN', 'RT']}\n",
            "['TT', 'V']\n"
          ]
        }
      ]
    },
    {
      "cell_type": "markdown",
      "source": [
        "#Adding data"
      ],
      "metadata": {
        "id": "uPwDRpPgk3Ee"
      }
    },
    {
      "cell_type": "code",
      "source": [
        "my_info = {} \n",
        "print(my_info)"
      ],
      "metadata": {
        "colab": {
          "base_uri": "https://localhost:8080/"
        },
        "id": "g2RZbGFqkmnS",
        "outputId": "19873e56-cbef-48e4-cb1c-4fd8dfd5ef13"
      },
      "execution_count": 18,
      "outputs": [
        {
          "output_type": "stream",
          "name": "stdout",
          "text": [
            "{}\n"
          ]
        }
      ]
    },
    {
      "cell_type": "code",
      "source": [
        "my_info['name'] = 'premanand'"
      ],
      "metadata": {
        "id": "7esorMdzk_Rd"
      },
      "execution_count": 19,
      "outputs": []
    },
    {
      "cell_type": "code",
      "source": [
        "my_info['favourite music dir'] = 'ARR' "
      ],
      "metadata": {
        "id": "uTQPKS6ClDT1"
      },
      "execution_count": 20,
      "outputs": []
    },
    {
      "cell_type": "code",
      "source": [
        "my_info['bestie'] = ['MA', 'TD']"
      ],
      "metadata": {
        "id": "eg2q72wYlRj1"
      },
      "execution_count": 22,
      "outputs": []
    },
    {
      "cell_type": "code",
      "source": [
        "my_info['studies'] = ('A','R')"
      ],
      "metadata": {
        "id": "fr-0Z0PYla71"
      },
      "execution_count": 24,
      "outputs": []
    },
    {
      "cell_type": "code",
      "source": [
        "my_info['motivated'] = 'APJ'"
      ],
      "metadata": {
        "id": "ZJtTb2S_lqXx"
      },
      "execution_count": 26,
      "outputs": []
    },
    {
      "cell_type": "code",
      "source": [
        "print(my_info)"
      ],
      "metadata": {
        "colab": {
          "base_uri": "https://localhost:8080/"
        },
        "id": "ILiqvaHqlLYr",
        "outputId": "5e45ffa6-ac19-4414-819f-e23e8db19577"
      },
      "execution_count": 27,
      "outputs": [
        {
          "output_type": "stream",
          "name": "stdout",
          "text": [
            "{'name': 'premanand', 'favourite music dir': 'ARR', 'bestie': ['MA', 'TD'], 'studies': ('A', 'R'), 'motivated': 'APJ'}\n"
          ]
        }
      ]
    },
    {
      "cell_type": "markdown",
      "source": [
        "#Delete data"
      ],
      "metadata": {
        "id": "q7JI-SyylxSZ"
      }
    },
    {
      "cell_type": "code",
      "source": [
        "info_my = {\n",
        "    \"game\":\"CS\",\n",
        "    \"singer\":\"HHA\",\n",
        "    \"cricketer\":\"MSD\"\n",
        "}\n",
        "print(\"before pop\")\n",
        "print(info_my)\n",
        "\n",
        "info_my.pop('singer')\n",
        "\n",
        "print(\"after pop\")\n",
        "print(info_my)"
      ],
      "metadata": {
        "colab": {
          "base_uri": "https://localhost:8080/"
        },
        "id": "xPW3VNFJlNkx",
        "outputId": "e754c443-8b30-4085-a6d6-d5ead758ff2b"
      },
      "execution_count": 31,
      "outputs": [
        {
          "output_type": "stream",
          "name": "stdout",
          "text": [
            "before pop\n",
            "{'game': 'CS', 'singer': 'HHA', 'cricketer': 'MSD'}\n",
            "after pop\n",
            "{'game': 'CS', 'cricketer': 'MSD'}\n"
          ]
        }
      ]
    },
    {
      "cell_type": "code",
      "source": [
        "info_my.pop(1)\n",
        "\n",
        "print(\"after pop\")\n",
        "print(info_my)"
      ],
      "metadata": {
        "colab": {
          "base_uri": "https://localhost:8080/",
          "height": 217
        },
        "id": "MuAGegODmKAq",
        "outputId": "0d6bfca4-3f40-4f43-ae5d-dc003c62f9e7"
      },
      "execution_count": 34,
      "outputs": [
        {
          "output_type": "error",
          "ename": "KeyError",
          "evalue": "ignored",
          "traceback": [
            "\u001b[0;31m---------------------------------------------------------------------------\u001b[0m",
            "\u001b[0;31mKeyError\u001b[0m                                  Traceback (most recent call last)",
            "\u001b[0;32m<ipython-input-34-dc9f34858ebd>\u001b[0m in \u001b[0;36m<module>\u001b[0;34m\u001b[0m\n\u001b[0;32m----> 1\u001b[0;31m \u001b[0minfo_my\u001b[0m\u001b[0;34m.\u001b[0m\u001b[0mpop\u001b[0m\u001b[0;34m(\u001b[0m\u001b[0;36m1\u001b[0m\u001b[0;34m)\u001b[0m\u001b[0;34m\u001b[0m\u001b[0;34m\u001b[0m\u001b[0m\n\u001b[0m\u001b[1;32m      2\u001b[0m \u001b[0;34m\u001b[0m\u001b[0m\n\u001b[1;32m      3\u001b[0m \u001b[0mprint\u001b[0m\u001b[0;34m(\u001b[0m\u001b[0;34m\"after pop\"\u001b[0m\u001b[0;34m)\u001b[0m\u001b[0;34m\u001b[0m\u001b[0;34m\u001b[0m\u001b[0m\n\u001b[1;32m      4\u001b[0m \u001b[0mprint\u001b[0m\u001b[0;34m(\u001b[0m\u001b[0minfo_my\u001b[0m\u001b[0;34m)\u001b[0m\u001b[0;34m\u001b[0m\u001b[0;34m\u001b[0m\u001b[0m\n",
            "\u001b[0;31mKeyError\u001b[0m: 1"
          ]
        }
      ]
    },
    {
      "cell_type": "code",
      "source": [
        "info_my.pop()\n",
        "\n",
        "print(\"after pop\")\n",
        "print(info_my)"
      ],
      "metadata": {
        "colab": {
          "base_uri": "https://localhost:8080/",
          "height": 217
        },
        "id": "4j0Dn5iunft8",
        "outputId": "6b2901bf-a1cc-4157-c8b9-d3725cd9b557"
      },
      "execution_count": 35,
      "outputs": [
        {
          "output_type": "error",
          "ename": "TypeError",
          "evalue": "ignored",
          "traceback": [
            "\u001b[0;31m---------------------------------------------------------------------------\u001b[0m",
            "\u001b[0;31mTypeError\u001b[0m                                 Traceback (most recent call last)",
            "\u001b[0;32m<ipython-input-35-585a3f9890fd>\u001b[0m in \u001b[0;36m<module>\u001b[0;34m\u001b[0m\n\u001b[0;32m----> 1\u001b[0;31m \u001b[0minfo_my\u001b[0m\u001b[0;34m.\u001b[0m\u001b[0mpop\u001b[0m\u001b[0;34m(\u001b[0m\u001b[0;34m)\u001b[0m\u001b[0;34m\u001b[0m\u001b[0;34m\u001b[0m\u001b[0m\n\u001b[0m\u001b[1;32m      2\u001b[0m \u001b[0;34m\u001b[0m\u001b[0m\n\u001b[1;32m      3\u001b[0m \u001b[0mprint\u001b[0m\u001b[0;34m(\u001b[0m\u001b[0;34m\"after pop\"\u001b[0m\u001b[0;34m)\u001b[0m\u001b[0;34m\u001b[0m\u001b[0;34m\u001b[0m\u001b[0m\n\u001b[1;32m      4\u001b[0m \u001b[0mprint\u001b[0m\u001b[0;34m(\u001b[0m\u001b[0minfo_my\u001b[0m\u001b[0;34m)\u001b[0m\u001b[0;34m\u001b[0m\u001b[0;34m\u001b[0m\u001b[0m\n",
            "\u001b[0;31mTypeError\u001b[0m: pop expected at least 1 arguments, got 0"
          ]
        }
      ]
    },
    {
      "cell_type": "code",
      "source": [
        "info_my.popitem()\n",
        "\n",
        "print(\"after pop\")\n",
        "print(info_my)"
      ],
      "metadata": {
        "colab": {
          "base_uri": "https://localhost:8080/"
        },
        "id": "Od3wzOJOm_A_",
        "outputId": "8ec992b0-9da4-4da0-832a-20ba7a58db12"
      },
      "execution_count": 36,
      "outputs": [
        {
          "output_type": "stream",
          "name": "stdout",
          "text": [
            "after pop\n",
            "{'game': 'CS'}\n"
          ]
        }
      ]
    },
    {
      "cell_type": "markdown",
      "source": [
        "#Key & Values - importance"
      ],
      "metadata": {
        "id": "KwjTHFYrnsnZ"
      }
    },
    {
      "cell_type": "code",
      "source": [
        "user_info = {'name': 'premanand', 'age': 35, 'state': 'TN'}\n",
        "\n",
        "if 'age' in user_info:\n",
        "    print('age is present')\n",
        "else:\n",
        "    print('not present')\n",
        "\n",
        "\n",
        "if 'surname' in user_info:\n",
        "    print('surname present')\n",
        "else:\n",
        "    print('surname is not present')"
      ],
      "metadata": {
        "colab": {
          "base_uri": "https://localhost:8080/"
        },
        "id": "RDIzYeb9njSp",
        "outputId": "ab40b7df-046c-4262-b113-f2d034b383ec"
      },
      "execution_count": 37,
      "outputs": [
        {
          "output_type": "stream",
          "name": "stdout",
          "text": [
            "age is present\n",
            "surname is not present\n"
          ]
        }
      ]
    },
    {
      "cell_type": "code",
      "source": [
        "if 'premanand' in user_info:\n",
        "    print('surname present')\n",
        "else:\n",
        "    print('surname is not present')"
      ],
      "metadata": {
        "colab": {
          "base_uri": "https://localhost:8080/"
        },
        "id": "dqU6JcG_n0Pu",
        "outputId": "ac16f1e4-21ea-4ed8-843d-0ba050cda046"
      },
      "execution_count": 38,
      "outputs": [
        {
          "output_type": "stream",
          "name": "stdout",
          "text": [
            "surname is not present\n"
          ]
        }
      ]
    },
    {
      "cell_type": "code",
      "source": [
        "if '35' in user_info.values():\n",
        "    print('age present')\n",
        "else:\n",
        "    print('age is not present')"
      ],
      "metadata": {
        "colab": {
          "base_uri": "https://localhost:8080/"
        },
        "id": "YxSNGvg8n6MX",
        "outputId": "2905a5ab-6e66-4cbf-91fe-57586ec2f03b"
      },
      "execution_count": 42,
      "outputs": [
        {
          "output_type": "stream",
          "name": "stdout",
          "text": [
            "age is not present\n"
          ]
        }
      ]
    },
    {
      "cell_type": "code",
      "source": [
        "if 35 in user_info.values():\n",
        "    print('age present')\n",
        "else:\n",
        "    print('age is not present')"
      ],
      "metadata": {
        "colab": {
          "base_uri": "https://localhost:8080/"
        },
        "id": "GvMWbmqBoVLs",
        "outputId": "fc1a0b68-17d8-4536-f331-f09f0646f8a4"
      },
      "execution_count": 43,
      "outputs": [
        {
          "output_type": "stream",
          "name": "stdout",
          "text": [
            "age present\n"
          ]
        }
      ]
    },
    {
      "cell_type": "markdown",
      "source": [
        "#Loops"
      ],
      "metadata": {
        "id": "0z2i0AdhotLR"
      }
    },
    {
      "cell_type": "code",
      "source": [
        "user_info = {'name': 'premanand', 'age': 35, 'state': 'TN'}\n",
        "for i in user_info:\n",
        "    print(i)"
      ],
      "metadata": {
        "colab": {
          "base_uri": "https://localhost:8080/"
        },
        "id": "KRyEpEFioof3",
        "outputId": "3d379814-e686-42e5-fcec-1f23b54e2ecb"
      },
      "execution_count": 44,
      "outputs": [
        {
          "output_type": "stream",
          "name": "stdout",
          "text": [
            "name\n",
            "age\n",
            "state\n"
          ]
        }
      ]
    },
    {
      "cell_type": "code",
      "source": [
        "user_info = {'name': 'premanand', 'age': 35, 'state': 'TN'}\n",
        "for i in user_info.keys():\n",
        "    print(i)"
      ],
      "metadata": {
        "colab": {
          "base_uri": "https://localhost:8080/"
        },
        "id": "G3WxpFUBo1VV",
        "outputId": "c77bfead-a634-435a-86af-1afae1ec1a6e"
      },
      "execution_count": 45,
      "outputs": [
        {
          "output_type": "stream",
          "name": "stdout",
          "text": [
            "name\n",
            "age\n",
            "state\n"
          ]
        }
      ]
    },
    {
      "cell_type": "code",
      "source": [
        "user_info = {'name': 'premanand', 'age': 35, 'state': 'TN'}\n",
        "for i in user_info.values():\n",
        "    print(i)"
      ],
      "metadata": {
        "colab": {
          "base_uri": "https://localhost:8080/"
        },
        "id": "GchoHdjKo6Q3",
        "outputId": "2e79a1f4-7917-4fbb-9d8f-899bce532af2"
      },
      "execution_count": 46,
      "outputs": [
        {
          "output_type": "stream",
          "name": "stdout",
          "text": [
            "premanand\n",
            "35\n",
            "TN\n"
          ]
        }
      ]
    },
    {
      "cell_type": "code",
      "source": [
        "user_info = {'name': 'premanand', 'age': 35, 'state': 'TN'}\n",
        "for i in user_info.items():\n",
        "    print(i)"
      ],
      "metadata": {
        "colab": {
          "base_uri": "https://localhost:8080/"
        },
        "id": "CTwNqLm6o_FL",
        "outputId": "d13699a0-573a-41ad-df4b-fd8c88411c07"
      },
      "execution_count": 47,
      "outputs": [
        {
          "output_type": "stream",
          "name": "stdout",
          "text": [
            "('name', 'premanand')\n",
            "('age', 35)\n",
            "('state', 'TN')\n"
          ]
        }
      ]
    },
    {
      "cell_type": "markdown",
      "source": [
        "#Methods"
      ],
      "metadata": {
        "id": "FaFhLL7vpItI"
      }
    },
    {
      "cell_type": "code",
      "source": [
        "user_info = {'name': 'premanand', 'age': 35, 'state': 'TN'}\n",
        "\n",
        "Extra_info = {'fav_movie':'ghilli','hobbies':['driving','swimming']}\n",
        "\n",
        "user_info.update(Extra_info)\n",
        "print(user_info)"
      ],
      "metadata": {
        "colab": {
          "base_uri": "https://localhost:8080/"
        },
        "id": "MTg1Z94QpEn1",
        "outputId": "1164d4b4-6e42-4584-dfcf-37eb85d1317a"
      },
      "execution_count": 48,
      "outputs": [
        {
          "output_type": "stream",
          "name": "stdout",
          "text": [
            "{'name': 'premanand', 'age': 35, 'state': 'TN', 'fav_movie': 'ghilli', 'hobbies': ['driving', 'swimming']}\n"
          ]
        }
      ]
    },
    {
      "cell_type": "code",
      "source": [
        "dictinary = dict.fromkeys(['name','age','hobbies'],'dont know')\n",
        "print(dictinary) "
      ],
      "metadata": {
        "colab": {
          "base_uri": "https://localhost:8080/"
        },
        "id": "770EjduvpaZZ",
        "outputId": "0d468a4e-1292-4118-eade-cb1bf2258456"
      },
      "execution_count": 49,
      "outputs": [
        {
          "output_type": "stream",
          "name": "stdout",
          "text": [
            "{'name': 'dont know', 'age': 'dont know', 'hobbies': 'dont know'}\n"
          ]
        }
      ]
    },
    {
      "cell_type": "code",
      "source": [
        "# get method will not gives error if keys is not found!\n",
        "info = {'name': 'premanand', 'age': 35}\n",
        "\n",
        "print(info.get('name'))\n",
        "print(info.get('ages'))"
      ],
      "metadata": {
        "colab": {
          "base_uri": "https://localhost:8080/"
        },
        "id": "6FTTpL-FqYC1",
        "outputId": "fcffae0f-737c-4501-fdc4-2b1f225798a4"
      },
      "execution_count": 50,
      "outputs": [
        {
          "output_type": "stream",
          "name": "stdout",
          "text": [
            "premanand\n",
            "None\n"
          ]
        }
      ]
    },
    {
      "cell_type": "code",
      "source": [
        "info = {'name': 'premanand', 'age': 35}\n",
        "info.clear()\n",
        "print(info)"
      ],
      "metadata": {
        "colab": {
          "base_uri": "https://localhost:8080/"
        },
        "id": "jqKTt0MtqvXO",
        "outputId": "da42aad8-775d-4d3c-8c2d-ef0b0c27de29"
      },
      "execution_count": 51,
      "outputs": [
        {
          "output_type": "stream",
          "name": "stdout",
          "text": [
            "{}\n"
          ]
        }
      ]
    },
    {
      "cell_type": "code",
      "source": [
        "info = {'name': 'premanand', 'age': 35}\n",
        "info1 = info.copy()\n",
        "\n",
        "print(info1)\n",
        "print(info)"
      ],
      "metadata": {
        "colab": {
          "base_uri": "https://localhost:8080/"
        },
        "id": "EeEpkNuhq2rD",
        "outputId": "2c03ec85-b087-467a-badc-051c5bad21ec"
      },
      "execution_count": 53,
      "outputs": [
        {
          "output_type": "stream",
          "name": "stdout",
          "text": [
            "{'name': 'premanand', 'age': 35}\n",
            "{'name': 'premanand', 'age': 35}\n"
          ]
        }
      ]
    },
    {
      "cell_type": "code",
      "source": [],
      "metadata": {
        "id": "vqBK1Y0oq_7O"
      },
      "execution_count": null,
      "outputs": []
    }
  ]
}